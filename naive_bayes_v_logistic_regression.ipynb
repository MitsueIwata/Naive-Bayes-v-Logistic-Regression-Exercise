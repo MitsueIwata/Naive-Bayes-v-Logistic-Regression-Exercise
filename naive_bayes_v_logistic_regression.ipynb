{
 "cells": [
  {
   "cell_type": "code",
   "execution_count": 1,
   "metadata": {
    "collapsed": true
   },
   "outputs": [],
   "source": [
    "import numpy as np\n",
    "import matplotlib.pyplot as plt\n",
    "import matplotlib as mpl\n",
    "%matplotlib inline\n",
    "mpl.rc('figure', figsize=[8,8])  #set the default figure size"
   ]
  },
  {
   "cell_type": "code",
   "execution_count": 2,
   "metadata": {
    "collapsed": false
   },
   "outputs": [],
   "source": [
    "# This helper function will help you plot the decision boundary.\n",
    "# It also shows the dataset.  If you add functions to your Naive\n",
    "# Bayes classifier similar predict and fit in \n",
    "# sklearn.linear_model.LinearRegression (see the documentation)\n",
    "# use should be able to use this without any modification.  See\n",
    "# the example with LinearRegression below.\n",
    "\n",
    "def plot_decision_boundary(predict_func, X, train_func=None, y=None):\n",
    "    '''Plot decision boundary for predict_func on data X.\n",
    "    \n",
    "    If train_func and y are provided, first train the classifier.'''\n",
    "    \n",
    "    if train_func and y is not None:\n",
    "        train_func(X, y)\n",
    "\n",
    "    x_min, x_max = X[:, 0].min() - 1, X[:, 0].max() + 1\n",
    "    y_min, y_max = X[:, 1].min() - 1, X[:, 1].max() + 1\n",
    "    xx, yy = np.meshgrid(np.linspace(x_min, x_max, 1000),\n",
    "                         np.linspace(y_min, y_max, 1000))\n",
    "    Z = predict_func(np.c_[np.around(xx.ravel()), \n",
    "                           np.around(yy.ravel())])\n",
    "    Z = np.asarray(Z).reshape(xx.shape)\n",
    "\n",
    "    _ = plt.contourf(xx, yy, Z, cmap=plt.cm.Paired, alpha=0.1)\n",
    "\n",
    "    # Plot data points\n",
    "    \n",
    "    # Add small random noise so points with the same values\n",
    "    # can be see differently\n",
    "    X0 = X[:,0] + np.random.random(size=len(X))/5\n",
    "    X1 = X[:,1] + np.random.random(size=len(X))/5\n",
    "\n",
    "    # Plot the two classes separately with different colors/markers\n",
    "    X0_class0 = X0[y==0] \n",
    "    X1_class0 = X1[y==0]\n",
    "    _ = plt.scatter(X0_class0, X1_class0, marker='.', c='green')\n",
    "    \n",
    "    X0_class1 = X0[y==1] \n",
    "    X1_class1 = X1[y==1]\n",
    "    _ = plt.scatter(X0_class1, X1_class1, marker='+', c='red')  "
   ]
  },
  {
   "cell_type": "code",
   "execution_count": 3,
   "metadata": {
    "collapsed": false
   },
   "outputs": [],
   "source": [
    "import pandas as pd\n",
    "\n",
    "class NaiveBayes:\n",
    "    \n",
    "    def __init__(self):\n",
    "        self.classes = [0,1]\n",
    "        self.f0_cond_probs = pd.DataFrame()\n",
    "        self.f1_cond_probs = pd.DataFrame()\n",
    "        self.class_d = {}\n",
    "\n",
    "    #def calculateProbDf(class_l, df):    \n",
    "    def fit(self, X, y):\n",
    "        \"\"\"\n",
    "        Parameters\n",
    "        ----------\n",
    "        X : numpy array or sparse matrix of shape [n_samples,n_features]\n",
    "            Training data\n",
    "        y : numpy array of shape [n_samples, n_targets]\n",
    "            Target values\n",
    "        Returns\n",
    "        -------\n",
    "        \"\"\"\n",
    "        \n",
    "        ind = list(range(len(X)))\n",
    "        X_df = pd.DataFrame(X[:,0:2], index=[ind], columns=[0,1])\n",
    "        y_df = pd.DataFrame(y[:,], index=[ind], columns=[0])\n",
    "        y_df = y_df.rename(columns={0: 'class'})\n",
    "\n",
    "        df = pd.concat([X_df,y_df], axis=1)\n",
    "        class_l = self.classes\n",
    "        \n",
    "        f0_vals, f1_vals = self.getXYvalLists(df[[0,1]]) #get index vals for features\n",
    "        \n",
    "        f0_class_prob_df = self.createProbDf(class_l, f0_vals) #create empty df\n",
    "        f1_class_prob_df = self.createProbDf(class_l, f1_vals)\n",
    "        \n",
    "        self.class_d = self.classValsDict(y_df, len(f0_vals), len(f1_vals))        \n",
    "        \n",
    "        class_counts_s = y_df['class'].value_counts() #get counts for class 0, 1\n",
    "\n",
    "        for c in class_l:\n",
    "            #get probs into df \n",
    "            for x in f0_vals:\n",
    "                count = len(df[ (df[0] == x) & (df['class'] == c) ]) + 1\n",
    "                f0_class_prob_df.ix[x,c]= count/(class_counts_s[c] + len(f0_vals) )\n",
    "            for y in f1_vals:\n",
    "                count = len(df[ (df[1] == y) & (df['class'] == c) ]) + 1 \n",
    "                f1_class_prob_df.ix[y,c]= count/(class_counts_s[c] + len(f1_vals) )\n",
    "        self.f0_cond_probs = f0_class_prob_df\n",
    "        self.f1_cond_probs = f1_class_prob_df\n",
    "        \n",
    "        return self\n",
    "\n",
    "  \n",
    "    def getXYvalLists(self, df):\n",
    "        return list(df[0].value_counts().index), list(df[1].value_counts().index)\n",
    "\n",
    "    def createProbDf(self, cols, index_vals):\n",
    "        return pd.DataFrame(columns=cols, index=index_vals)\n",
    " \n",
    "    def predict(self, X):\n",
    "        \"\"\"Parameters\n",
    "        ----------\n",
    "        X : {array-like, sparse matrix}, shape = (n_samples, n_features)\n",
    "            Samples.\n",
    "        Returns\n",
    "        -------\n",
    "        C : array, shape = (n_samples,)\n",
    "            Returns predicted values.\n",
    "        \"\"\"\n",
    "\n",
    "        tmp = X[:, 0:2 ]\n",
    "        \n",
    "        ind = list(range(len(X)))\n",
    "\n",
    "        f0_condprob_df = self.f0_cond_probs\n",
    "        f1_condprob_df = self.f1_cond_probs\n",
    "\n",
    "        class_dict = self.class_d\n",
    "        \n",
    "        preds = []\n",
    "        \n",
    "        for f0_val, f1_val in tmp:\n",
    "        \n",
    "            if f0_val in f0_condprob_df.index:\n",
    "                pf0_1 = f0_condprob_df.ix[f0_val][1]\n",
    "                pf0_0 = f0_condprob_df.ix[f0_val][0]\n",
    "            else:\n",
    "                pf0_1 = 1/class_dict['f1_smooth']\n",
    "                pf0_0 = 1/class_dict['f0_smooth']\n",
    "            \n",
    "            if f1_val in f1_condprob_df.index:\n",
    "                pf1_1 = f1_condprob_df.ix[f1_val][1]\n",
    "                pf1_0 = f1_condprob_df.ix[f1_val][0]\n",
    "            else:\n",
    "                pf1_1 = 1/class_dict['f1_smooth']\n",
    "                pf1_0 = 1/class_dict['f0_smooth']\n",
    "                \n",
    "            prob_class1 = class_dict['prob_1']\n",
    "            likely_1 = pf0_1*pf1_1*prob_class1\n",
    "\n",
    "            prob_class0 = class_dict['prob_0']\n",
    "            likely_0 = pf0_0*pf1_0*prob_class0\n",
    "\n",
    "            prob_1 = likely_1/(likely_1+likely_0)\n",
    "            prob_0 = likely_0/(likely_1+likely_0)\n",
    "            \n",
    "            if prob_1 >= prob_0:\n",
    "                preds.append(1.0)\n",
    "            elif prob_0 >= prob_1:\n",
    "                preds.append(0.0)\n",
    "            else:\n",
    "                preds.append(np.random.randint(2))\n",
    "                \n",
    "        pred_np_array = np.array(preds)\n",
    "        return pred_np_array\n",
    "\n",
    "    '''get counts for class and P(c)'''\n",
    "    def classValsDict(self, y, f0_smooth, f1_smooth):\n",
    "        d = {}\n",
    "        class_count_s = y['class'].value_counts()\n",
    "        d['count_0'] = class_count_s[0]\n",
    "        d['count_1'] = class_count_s[1]\n",
    "        d['prob_0'] = class_count_s[0]/sum(y['class'].value_counts())\n",
    "        d['prob_1'] = class_count_s[1]/sum(y['class'].value_counts())\n",
    "        d['f0_smooth'] = f0_smooth\n",
    "        d['f1_smooth'] = f1_smooth\n",
    "        return d"
   ]
  },
  {
   "cell_type": "code",
   "execution_count": 4,
   "metadata": {
    "collapsed": true
   },
   "outputs": [],
   "source": [
    "from sklearn.cross_validation import KFold\n",
    "from sklearn.metrics import f1_score\n",
    "\n",
    "def getKFoldf1_scores(filename, folds, clf):\n",
    "    D = genfromtxt(filename, delimiter=',')\n",
    "    \n",
    "    kf_preds = []\n",
    "    kf = KFold(len(D), n_folds=folds)\n",
    "    count = 1\n",
    "    for train_i, test_i in kf:\n",
    "\n",
    "        train_X = D[train_i, 0:2]\n",
    "        train_y = D[train_i, 2]\n",
    "\n",
    "        test_X = D[test_i, 0:2]\n",
    "        test_y = D[test_i, 2]\n",
    "        \n",
    "        if clf == \"nb_clf\":\n",
    "            nb_clf = NaiveBayes()\n",
    "            nb_clf.fit(train_X, train_y)\n",
    "\n",
    "            y_pred = nb_clf.predict(test_X)\n",
    "            f1_s = f1_score(test_y, y_pred)\n",
    "            kf_preds.append( ('NB: '+ str(count), f1_s) )\n",
    "            count +=1\n",
    "        elif clf == \"lr_clf\":\n",
    "            lr_clf = LogisticRegression()\n",
    "            lr_clf.fit(train_X, train_y)\n",
    "            y_pred = lr_clf.predict(test_X)\n",
    "            f1_s = f1_score(test_y, y_pred)\n",
    "            kf_preds.append( ('LogReg: '+ str(count), f1_s) )\n",
    "            count +=1\n",
    "\n",
    "    return kf_preds\n",
    "\n",
    "def printlist(ls):\n",
    "    for s in ls:\n",
    "        print(s)"
   ]
  },
  {
   "cell_type": "code",
   "execution_count": 5,
   "metadata": {
    "collapsed": false,
    "scrolled": true
   },
   "outputs": [
    {
     "data": {
      "text/plain": [
       "' DATASET 1 LOGISTIC REGRESSION '"
      ]
     },
     "execution_count": 5,
     "metadata": {},
     "output_type": "execute_result"
    },
    {
     "data": {
      "image/png": "[encoded data removed]",
      "text/plain": [
       "<matplotlib.figure.Figure at 0x10947f358>"
      ]
     },
     "metadata": {},
     "output_type": "display_data"
    }
   ],
   "source": [
    "from numpy import genfromtxt\n",
    "from sklearn.linear_model import LogisticRegression \n",
    "\n",
    "lr_clf = LogisticRegression()\n",
    "D = genfromtxt('dataset1.csv', delimiter=',')\n",
    "\n",
    "X = D[:, 0:2]\n",
    "y = D[:, 2]\n",
    "\n",
    "lr = plot_decision_boundary(lr_clf.predict, X, lr_clf.fit, y)\n",
    "\"\"\" DATASET 1 LOGISTIC REGRESSION \"\"\""
   ]
  },
  {
   "cell_type": "code",
   "execution_count": 6,
   "metadata": {
    "collapsed": false
   },
   "outputs": [
    {
     "data": {
      "text/plain": [
       "' DATASET 1 NAIVE BAYES '"
      ]
     },
     "execution_count": 6,
     "metadata": {},
     "output_type": "execute_result"
    },
    {
     "data": {
      "image/png": "[encoded data removed]",
      "text/plain": [
       "<matplotlib.figure.Figure at 0x112b41e10>"
      ]
     },
     "metadata": {},
     "output_type": "display_data"
    }
   ],
   "source": [
    "nb_clf = NaiveBayes()\n",
    "plot_decision_boundary(nb_clf.predict, X, nb_clf.fit, y)\n",
    "\"\"\" DATASET 1 NAIVE BAYES \"\"\""
   ]
  },
  {
   "cell_type": "code",
   "execution_count": 7,
   "metadata": {
    "collapsed": false,
    "scrolled": true
   },
   "outputs": [
    {
     "name": "stdout",
     "output_type": "stream",
     "text": [
      "('NB: 1', 1.0)\n",
      "('NB: 2', 1.0)\n",
      "('NB: 3', 1.0)\n",
      "('NB: 4', 1.0)\n",
      "('NB: 5', 1.0)\n",
      "('LogReg: 1', 1.0)\n",
      "('LogReg: 2', 1.0)\n",
      "('LogReg: 3', 1.0)\n",
      "('LogReg: 4', 1.0)\n",
      "('LogReg: 5', 1.0)\n"
     ]
    }
   ],
   "source": [
    "f1_ds1_nb = getKFoldf1_scores('dataset1.csv', 5, 'nb_clf')\n",
    "f1_ds1_lr = getKFoldf1_scores('dataset1.csv', 5, 'lr_clf')\n",
    "\n",
    "printlist(f1_ds1_nb)\n",
    "printlist(f1_ds1_lr)"
   ]
  },
  {
   "cell_type": "markdown",
   "metadata": {},
   "source": [
    "For dataset 1, the performance for both models are equivalent. Looking at the logistic regression classifier's decision boundary contours plot, it appears more balanced than Naive Bayes. However, for dataset1-type data (two feature where one or the other is zero and within a small range) and without any preference for precision over recall (or vice-versa) of the model, either one would be fine."
   ]
  },
  {
   "cell_type": "code",
   "execution_count": null,
   "metadata": {
    "collapsed": true
   },
   "outputs": [],
   "source": []
  },
  {
   "cell_type": "code",
   "execution_count": 8,
   "metadata": {
    "collapsed": false
   },
   "outputs": [
    {
     "data": {
      "text/plain": [
       "' DATASET 2 NAIVE BAYES '"
      ]
     },
     "execution_count": 8,
     "metadata": {},
     "output_type": "execute_result"
    },
    {
     "data": {
      "image/png": "[encoded data removed]",
      "text/plain": [
       "<matplotlib.figure.Figure at 0x10a165e48>"
      ]
     },
     "metadata": {},
     "output_type": "display_data"
    }
   ],
   "source": [
    "D2 = genfromtxt('dataset2.csv', delimiter=',')\n",
    "\n",
    "X2 = D2[:, 0:2]\n",
    "y2 = D2[:, 2]\n",
    "\n",
    "nb_clf = NaiveBayes()\n",
    "plot_decision_boundary(nb_clf.predict, X2, nb_clf.fit, y2)\n",
    "\"\"\" DATASET 2 NAIVE BAYES \"\"\""
   ]
  },
  {
   "cell_type": "code",
   "execution_count": 9,
   "metadata": {
    "collapsed": false
   },
   "outputs": [
    {
     "data": {
      "text/plain": [
       "' DATASET 2 LOGISTIC REGRESSION '"
      ]
     },
     "execution_count": 9,
     "metadata": {},
     "output_type": "execute_result"
    },
    {
     "data": {
      "image/png": "[encoded data removed]",
      "text/plain": [
       "<matplotlib.figure.Figure at 0x113a9da90>"
      ]
     },
     "metadata": {},
     "output_type": "display_data"
    }
   ],
   "source": [
    "lr_clf = LogisticRegression()\n",
    "lr = plot_decision_boundary(lr_clf.predict, X2, lr_clf.fit, y2)\n",
    "\"\"\" DATASET 2 LOGISTIC REGRESSION \"\"\""
   ]
  },
  {
   "cell_type": "code",
   "execution_count": 10,
   "metadata": {
    "collapsed": false
   },
   "outputs": [
    {
     "name": "stdout",
     "output_type": "stream",
     "text": [
      "('NB: 1', 0.91666666666666663)\n",
      "('NB: 2', 0.96153846153846145)\n",
      "('NB: 3', 0.92682926829268286)\n",
      "('NB: 4', 0.86274509803921562)\n",
      "('NB: 5', 0.88888888888888895)\n",
      "('LogReg: 1', 0.93617021276595747)\n",
      "('LogReg: 2', 1.0)\n",
      "('LogReg: 3', 1.0)\n",
      "('LogReg: 4', 0.95652173913043481)\n",
      "('LogReg: 5', 0.88888888888888895)\n"
     ]
    }
   ],
   "source": [
    "f1_ds2_nb = getKFoldf1_scores('dataset2.csv', 5, 'nb_clf')\n",
    "f1_ds2_lr = getKFoldf1_scores('dataset2.csv', 5, 'lr_clf')\n",
    "\n",
    "printlist(f1_ds2_nb)\n",
    "printlist(f1_ds2_lr)"
   ]
  },
  {
   "cell_type": "markdown",
   "metadata": {},
   "source": [
    "For dataset 2, the logistic regression classifier performs better than the naive bayes model. Looking at the contour boundary plots, each class has a distinct linear pattern. Based on this, the 'shape' of the data, and the performance of each classifier, I would use logistic regression classifier."
   ]
  },
  {
   "cell_type": "code",
   "execution_count": null,
   "metadata": {
    "collapsed": true
   },
   "outputs": [],
   "source": []
  },
  {
   "cell_type": "code",
   "execution_count": 11,
   "metadata": {
    "collapsed": false,
    "scrolled": true
   },
   "outputs": [
    {
     "data": {
      "image/png": "[encoded data removed]",
      "text/plain": [
       "<matplotlib.figure.Figure at 0x113ba62b0>"
      ]
     },
     "metadata": {},
     "output_type": "display_data"
    }
   ],
   "source": [
    "D3 = genfromtxt('dataset3.csv', delimiter=',')\n",
    "\n",
    "X3 = D3[:, 0:2]\n",
    "y3 = D3[:, 2]\n",
    "\n",
    "nb_clf = NaiveBayes()\n",
    "plot_decision_boundary(nb_clf.predict, X3, nb_clf.fit, y3)"
   ]
  },
  {
   "cell_type": "code",
   "execution_count": 12,
   "metadata": {
    "collapsed": false
   },
   "outputs": [
    {
     "data": {
      "text/plain": [
       "' DATASET 3 LOGISTIC REGRESSION '"
      ]
     },
     "execution_count": 12,
     "metadata": {},
     "output_type": "execute_result"
    },
    {
     "data": {
      "image/png": "[encoded data removed]",
      "text/plain": [
       "<matplotlib.figure.Figure at 0x113c2c278>"
      ]
     },
     "metadata": {},
     "output_type": "display_data"
    }
   ],
   "source": [
    "lr_clf = LogisticRegression()\n",
    "lr = plot_decision_boundary(lr_clf.predict, X3, lr_clf.fit, y3)\n",
    "\"\"\" DATASET 3 LOGISTIC REGRESSION \"\"\""
   ]
  },
  {
   "cell_type": "code",
   "execution_count": 13,
   "metadata": {
    "collapsed": false
   },
   "outputs": [
    {
     "name": "stdout",
     "output_type": "stream",
     "text": [
      "('NB: 1', 1.0)\n",
      "('NB: 2', 1.0)\n",
      "('NB: 3', 1.0)\n",
      "('NB: 4', 1.0)\n",
      "('NB: 5', 1.0)\n",
      "('LogReg: 1', 0.47368421052631582)\n",
      "('LogReg: 2', 0.48780487804878048)\n",
      "('LogReg: 3', 0.43749999999999994)\n",
      "('LogReg: 4', 0.52631578947368418)\n",
      "('LogReg: 5', 0.66666666666666663)\n"
     ]
    }
   ],
   "source": [
    "f1_ds3_nb = getKFoldf1_scores('dataset3.csv', 5, 'nb_clf')\n",
    "f1_ds3_lr = getKFoldf1_scores('dataset3.csv', 5, 'lr_clf')\n",
    "\n",
    "printlist(f1_ds3_nb)\n",
    "printlist(f1_ds3_lr)"
   ]
  },
  {
   "cell_type": "markdown",
   "metadata": {},
   "source": [
    "For dataset 3, the naive bayes classifier performs much better than the logistic regression classifier. Again, looking at the plots and the cluster of classes, there is no clear linear boundary. For data of this type, we should use the naive bayes classifier."
   ]
  }
 ],
 "metadata": {
  "kernelspec": {
   "display_name": "Python 3",
   "language": "python",
   "name": "python3"
  },
  "language_info": {
   "codemirror_mode": {
    "name": "ipython",
    "version": 3
   },
   "file_extension": ".py",
   "mimetype": "text/x-python",
   "name": "python",
   "nbconvert_exporter": "python",
   "pygments_lexer": "ipython3",
   "version": "3.4.3"
  }
 },
 "nbformat": 4,
 "nbformat_minor": 0
}
